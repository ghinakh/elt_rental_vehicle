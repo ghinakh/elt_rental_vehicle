{
 "cells": [
  {
   "cell_type": "code",
   "execution_count": 67,
   "id": "3707aade",
   "metadata": {},
   "outputs": [],
   "source": [
    "import pandas as pd\n",
    "import os\n",
    "import mysql.connector\n",
    "from mysql.connector import Error\n",
    "from dotenv import load_dotenv"
   ]
  },
  {
   "cell_type": "code",
   "execution_count": 68,
   "id": "9e21e4dd",
   "metadata": {},
   "outputs": [],
   "source": [
    "base_dir = os.getcwd()"
   ]
  },
  {
   "cell_type": "markdown",
   "id": "b49318a6",
   "metadata": {},
   "source": [
    "### import csv to mysql (users, vehicles, transactions)"
   ]
  },
  {
   "cell_type": "code",
   "execution_count": 69,
   "id": "4bf06268",
   "metadata": {},
   "outputs": [],
   "source": [
    "#  Read csv files\n",
    "users = pd.read_csv(f\"{base_dir}\\\\data\\\\users.csv\")\n",
    "vehicles = pd.read_csv(f\"{base_dir}\\\\data\\\\vehicles.csv\")\n",
    "transactions = pd.read_csv(f\"{base_dir}\\\\data\\\\rental_transactions.csv\")"
   ]
  },
  {
   "cell_type": "code",
   "execution_count": 70,
   "id": "4ad570ed",
   "metadata": {},
   "outputs": [],
   "source": [
    "def generate_insert_into(df, table_name=\"A\"):\n",
    "    columns = df.columns.tolist()\n",
    "    columns_str = \", \".join(columns)\n",
    "    placeholders = \", \".join([\"%s\"] * len(columns))\n",
    "    insert_stmt = f\"INSERT INTO {table_name} ({columns_str}) VALUES ({placeholders});\"\n",
    "    return insert_stmt"
   ]
  },
  {
   "cell_type": "code",
   "execution_count": 71,
   "id": "4b1bd00c",
   "metadata": {},
   "outputs": [],
   "source": [
    "# query create table for users, vehicles, and transaction\n",
    "query_create_table_users = \"\"\"\n",
    "CREATE TABLE users (\n",
    "    user_id VARCHAR(50),\n",
    "    first_name VARCHAR(255),\n",
    "    last_name VARCHAR(255),\n",
    "    email VARCHAR(255),\n",
    "    phone_number VARCHAR(255),\n",
    "    driver_license_number VARCHAR(50),\n",
    "    driver_license_expiry DATE,\n",
    "    creation_date DATE,\n",
    "    is_active TINYINT(1)\n",
    ");\n",
    "\"\"\"\n",
    "\n",
    "query_create_table_vehicles = \"\"\"\n",
    "CREATE TABLE vehicles (\n",
    "    active TINYINT(1),\n",
    "    vehicle_license_number VARCHAR(255),\n",
    "    registration_name TEXT,\n",
    "    license_type VARCHAR(255),\n",
    "    expiration_date VARCHAR(50),\n",
    "    permit_license_number VARCHAR(255),\n",
    "    certification_date DATE,\n",
    "    vehicle_year YEAR,\n",
    "    base_telephone_number VARCHAR(255),\n",
    "    base_address TEXT,\n",
    "    vehicle_id VARCHAR(50),\n",
    "    last_update_timestamp VARCHAR(50),\n",
    "    brand VARCHAR(255),\n",
    "    vehicle_type VARCHAR(255)\n",
    ");\n",
    "\"\"\"\n",
    "\n",
    "query_create_table_transactions = \"\"\"\n",
    "CREATE TABLE transactions (\n",
    "    rental_id VARCHAR(50),\n",
    "    user_id VARCHAR(50),\n",
    "    vehicle_id VARCHAR(50),\n",
    "    rental_start_time DATETIME,\n",
    "    rental_end_time DATETIME,\n",
    "    pickup_location VARCHAR(255),\n",
    "    dropoff_location VARCHAR(255),\n",
    "    total_amount FLOAT\n",
    ");\n",
    "\"\"\"\n"
   ]
  },
  {
   "cell_type": "code",
   "execution_count": 72,
   "id": "c660df64",
   "metadata": {},
   "outputs": [],
   "source": [
    "# query insert table\n",
    "query_insert_table_users = generate_insert_into(users, 'users')\n",
    "query_insert_table_vehicle = generate_insert_into(vehicles, 'vehicles')\n",
    "query_insert_table_transaction = generate_insert_into(transactions, 'transactions')"
   ]
  },
  {
   "cell_type": "code",
   "execution_count": 77,
   "id": "0a4864e8",
   "metadata": {},
   "outputs": [
    {
     "name": "stdout",
     "output_type": "stream",
     "text": [
      "[INFO] connect to mysql success\n",
      "[INFO] you're connected to rental_vehicle database\n",
      "[INFO] drop table users if exist success\n",
      "[INFO] drop table vehicles if exist success\n",
      "[INFO] drop table transactions if exist success\n",
      "[INFO] Create table user success\n",
      "[INFO] Create table vehicles success\n",
      "[INFO] Create table transactions success\n",
      "[INFO] insert batch 1/7 success\n",
      "[INFO] insert batch 2/7 success\n",
      "[INFO] insert batch 3/7 success\n",
      "[INFO] insert batch 4/7 success\n",
      "[INFO] insert batch 5/7 success\n",
      "[INFO] insert batch 6/7 success\n",
      "[INFO] insert batch 7/7 success\n",
      "[INFO] all 30000 users data inserted successfully\n",
      "[INFO] insert batch 1/22 success\n",
      "[INFO] insert batch 2/22 success\n",
      "[INFO] insert batch 3/22 success\n",
      "[INFO] insert batch 4/22 success\n",
      "[INFO] insert batch 5/22 success\n",
      "[INFO] insert batch 6/22 success\n",
      "[INFO] insert batch 7/22 success\n",
      "[INFO] insert batch 8/22 success\n",
      "[INFO] insert batch 9/22 success\n",
      "[INFO] insert batch 10/22 success\n",
      "[INFO] insert batch 11/22 success\n",
      "[INFO] insert batch 12/22 success\n",
      "[INFO] insert batch 13/22 success\n",
      "[INFO] insert batch 14/22 success\n",
      "[INFO] insert batch 15/22 success\n",
      "[INFO] insert batch 16/22 success\n",
      "[INFO] insert batch 17/22 success\n",
      "[INFO] insert batch 18/22 success\n",
      "[INFO] insert batch 19/22 success\n",
      "[INFO] insert batch 20/22 success\n",
      "[INFO] insert batch 21/22 success\n",
      "[INFO] insert batch 22/22 success\n",
      "[INFO] all 109584 vehicles data inserted successfully\n",
      "[INFO] insert batch 1/5 success\n",
      "[INFO] insert batch 2/5 success\n",
      "[INFO] insert batch 3/5 success\n",
      "[INFO] insert batch 4/5 success\n",
      "[INFO] insert batch 5/5 success\n",
      "[INFO] all 20080 transactions data inserted successfully\n",
      "MySQL connection is closed\n"
     ]
    }
   ],
   "source": [
    "# Load .env\n",
    "load_dotenv()\n",
    "\n",
    "# Read MySQL connection info\n",
    "hostname = os.getenv(\"MYSQL_HOST\")\n",
    "port = int(os.getenv(\"MYSQL_PORT\"))\n",
    "username = os.getenv(\"MYSQL_USER\")\n",
    "password = os.getenv(\"MYSQL_PASSWORD\")\n",
    "\n",
    "try:\n",
    "    conn = mysql.connector.connect(\n",
    "        host=hostname,\n",
    "        user=username,\n",
    "        password=password,\n",
    "        port=port\n",
    "    )\n",
    "    \n",
    "    if conn.is_connected():\n",
    "        print(\"[INFO] connect to mysql success\")\n",
    "        cursor = conn.cursor()\n",
    "        cursor.execute(\"CREATE DATABASE IF NOT EXISTS rental_vehicle;\")\n",
    "        cursor.execute(\"USE rental_vehicle;\")\n",
    "        cursor.execute(\"SELECT DATABASE();\")\n",
    "        record = cursor.fetchone()\n",
    "        print(f\"[INFO] you're connected to {record[0]} database\")\n",
    "\n",
    "        cursor.execute(\"DROP TABLE IF EXISTS users;\")\n",
    "        print(\"[INFO] drop table users if exist success\")\n",
    "        cursor.execute(\"DROP TABLE IF EXISTS vehicles;\")\n",
    "        print(\"[INFO] drop table vehicles if exist success\")\n",
    "        cursor.execute(\"DROP TABLE IF EXISTS transactions;\")\n",
    "        print(\"[INFO] drop table transactions if exist success\")\n",
    "\n",
    "        cursor.execute(query_create_table_users)\n",
    "        print(\"[INFO] Create table user success\")\n",
    "        cursor.execute(query_create_table_vehicles)\n",
    "        print(\"[INFO] Create table vehicles success\")\n",
    "        cursor.execute(query_create_table_transactions)\n",
    "        print(\"[INFO] Create table transactions success\")\n",
    "\n",
    "        batch_size = 5000\n",
    "        tables = {\n",
    "            'users': users,\n",
    "            'vehicles': vehicles,\n",
    "            'transactions': transactions\n",
    "        }\n",
    "        insert_query = {\n",
    "            'users': query_insert_table_users,\n",
    "            'vehicles': query_insert_table_vehicle,\n",
    "            'transactions': query_insert_table_transaction\n",
    "        }\n",
    "        for tbl in tables.keys():\n",
    "            num_batches = len(tables[tbl]) // batch_size + 1\n",
    "            for i in range(num_batches):\n",
    "                start_idx = i * batch_size\n",
    "                end_idx = ((i+1) * batch_size)\n",
    "                batch_data = tables[tbl].iloc[start_idx:end_idx]\n",
    "                batch_data_record = [tuple(row) for row in batch_data.to_numpy()]\n",
    "\n",
    "                cursor.executemany(insert_query[tbl], batch_data_record)\n",
    "                conn.commit()\n",
    "                print(f\"[INFO] insert batch {i+1}/{num_batches} success\")\n",
    "\n",
    "            cursor.execute(f\"SELECT COUNT(*) FROM {tbl};\")\n",
    "            count_data = cursor.fetchone()\n",
    "            print(f\"[INFO] all {count_data[0]} {tbl} data inserted successfully\")\n",
    "\n",
    "except Error as e:\n",
    "    print(\"Error while connecting to MySQL\", e)\n",
    "\n",
    "finally:\n",
    "    if conn.is_connected():\n",
    "        cursor.close()\n",
    "        conn.close()\n",
    "        print(\"MySQL connection is closed\")\n"
   ]
  },
  {
   "cell_type": "code",
   "execution_count": 74,
   "id": "b07b3950",
   "metadata": {},
   "outputs": [
    {
     "data": {
      "text/plain": [
       "(30000, 109584, 20080)"
      ]
     },
     "execution_count": 74,
     "metadata": {},
     "output_type": "execute_result"
    }
   ],
   "source": [
    "len(users), len(vehicles), len(transactions)"
   ]
  },
  {
   "cell_type": "markdown",
   "id": "ae853eea",
   "metadata": {},
   "source": [
    "### cleaning location files"
   ]
  },
  {
   "cell_type": "code",
   "execution_count": 78,
   "id": "0dd13740",
   "metadata": {},
   "outputs": [],
   "source": [
    "locs = pd.read_csv(f\"{base_dir}\\\\data\\\\locations.csv\")"
   ]
  },
  {
   "cell_type": "code",
   "execution_count": 79,
   "id": "5e271a87",
   "metadata": {},
   "outputs": [
    {
     "name": "stdout",
     "output_type": "stream",
     "text": [
      "<class 'pandas.core.frame.DataFrame'>\n",
      "RangeIndex: 300 entries, 0 to 299\n",
      "Data columns (total 8 columns):\n",
      " #   Column         Non-Null Count  Dtype  \n",
      "---  ------         --------------  -----  \n",
      " 0   location_id    300 non-null    int64  \n",
      " 1   location_name  300 non-null    object \n",
      " 2   address        300 non-null    object \n",
      " 3   city           300 non-null    object \n",
      " 4   state          300 non-null    object \n",
      " 5   zip_code       300 non-null    int64  \n",
      " 6   latitude       300 non-null    float64\n",
      " 7   longitude      300 non-null    float64\n",
      "dtypes: float64(2), int64(2), object(4)\n",
      "memory usage: 18.9+ KB\n"
     ]
    }
   ],
   "source": [
    "locs.info()"
   ]
  },
  {
   "cell_type": "code",
   "execution_count": 80,
   "id": "6774b547",
   "metadata": {},
   "outputs": [
    {
     "data": {
      "text/html": [
       "<div>\n",
       "<style scoped>\n",
       "    .dataframe tbody tr th:only-of-type {\n",
       "        vertical-align: middle;\n",
       "    }\n",
       "\n",
       "    .dataframe tbody tr th {\n",
       "        vertical-align: top;\n",
       "    }\n",
       "\n",
       "    .dataframe thead th {\n",
       "        text-align: right;\n",
       "    }\n",
       "</style>\n",
       "<table border=\"1\" class=\"dataframe\">\n",
       "  <thead>\n",
       "    <tr style=\"text-align: right;\">\n",
       "      <th></th>\n",
       "      <th>location_id</th>\n",
       "      <th>location_name</th>\n",
       "      <th>address</th>\n",
       "      <th>city</th>\n",
       "      <th>state</th>\n",
       "      <th>zip_code</th>\n",
       "      <th>latitude</th>\n",
       "      <th>longitude</th>\n",
       "    </tr>\n",
       "  </thead>\n",
       "  <tbody>\n",
       "    <tr>\n",
       "      <th>0</th>\n",
       "      <td>2702</td>\n",
       "      <td>Jackson, Velazquez and Gonzales</td>\n",
       "      <td>3140 Heath Radial Apt. 604</td>\n",
       "      <td>Modesto</td>\n",
       "      <td>CA</td>\n",
       "      <td>94540</td>\n",
       "      <td>86.258020</td>\n",
       "      <td>-169.244800</td>\n",
       "    </tr>\n",
       "    <tr>\n",
       "      <th>1</th>\n",
       "      <td>4380</td>\n",
       "      <td>Bean LLC</td>\n",
       "      <td>51144 Patrick Isle Suite 397</td>\n",
       "      <td>Fontana</td>\n",
       "      <td>CA</td>\n",
       "      <td>92188</td>\n",
       "      <td>-74.455893</td>\n",
       "      <td>-42.279882</td>\n",
       "    </tr>\n",
       "    <tr>\n",
       "      <th>2</th>\n",
       "      <td>7709</td>\n",
       "      <td>Gilbert-Simmons</td>\n",
       "      <td>4738 Lewis Locks</td>\n",
       "      <td>Roseville</td>\n",
       "      <td>CA</td>\n",
       "      <td>91032</td>\n",
       "      <td>-65.430931</td>\n",
       "      <td>-64.763489</td>\n",
       "    </tr>\n",
       "  </tbody>\n",
       "</table>\n",
       "</div>"
      ],
      "text/plain": [
       "   location_id                    location_name                       address  \\\n",
       "0         2702  Jackson, Velazquez and Gonzales    3140 Heath Radial Apt. 604   \n",
       "1         4380                         Bean LLC  51144 Patrick Isle Suite 397   \n",
       "2         7709                  Gilbert-Simmons              4738 Lewis Locks   \n",
       "\n",
       "        city state  zip_code   latitude   longitude  \n",
       "0    Modesto    CA     94540  86.258020 -169.244800  \n",
       "1    Fontana    CA     92188 -74.455893  -42.279882  \n",
       "2  Roseville    CA     91032 -65.430931  -64.763489  "
      ]
     },
     "execution_count": 80,
     "metadata": {},
     "output_type": "execute_result"
    }
   ],
   "source": [
    "locs.head(3)"
   ]
  },
  {
   "cell_type": "code",
   "execution_count": 82,
   "id": "251b0d08",
   "metadata": {},
   "outputs": [
    {
     "data": {
      "text/plain": [
       "location_id      0\n",
       "location_name    0\n",
       "address          0\n",
       "city             0\n",
       "state            0\n",
       "zip_code         0\n",
       "latitude         0\n",
       "longitude        0\n",
       "dtype: int64"
      ]
     },
     "execution_count": 82,
     "metadata": {},
     "output_type": "execute_result"
    }
   ],
   "source": [
    "locs.isnull().sum()"
   ]
  },
  {
   "cell_type": "code",
   "execution_count": 85,
   "id": "8938871a",
   "metadata": {},
   "outputs": [
    {
     "data": {
      "text/plain": [
       "np.int64(0)"
      ]
     },
     "execution_count": 85,
     "metadata": {},
     "output_type": "execute_result"
    }
   ],
   "source": [
    "locs.duplicated(subset=['location_id']).sum()"
   ]
  },
  {
   "cell_type": "markdown",
   "id": "cb554439",
   "metadata": {},
   "source": [
    "location.csv is clean. "
   ]
  }
 ],
 "metadata": {
  "kernelspec": {
   "display_name": "rent_vhc_env",
   "language": "python",
   "name": "python3"
  },
  "language_info": {
   "codemirror_mode": {
    "name": "ipython",
    "version": 3
   },
   "file_extension": ".py",
   "mimetype": "text/x-python",
   "name": "python",
   "nbconvert_exporter": "python",
   "pygments_lexer": "ipython3",
   "version": "3.12.11"
  }
 },
 "nbformat": 4,
 "nbformat_minor": 5
}
